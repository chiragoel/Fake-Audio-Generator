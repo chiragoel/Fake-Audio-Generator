{
  "nbformat": 4,
  "nbformat_minor": 0,
  "metadata": {
    "colab": {
      "name": "MB-MelGAN_training.ipynb",
      "provenance": [],
      "collapsed_sections": []
    },
    "kernelspec": {
      "name": "python3",
      "display_name": "Python 3"
    },
    "language_info": {
      "name": "python"
    },
    "accelerator": "GPU"
  },
  "cells": [
    {
      "cell_type": "code",
      "metadata": {
        "id": "C_TP57GjWubx"
      },
      "source": [
        "# download LJSpeech dataset\n",
        "!wget http://data.keithito.com/data/speech/LJSpeech-1.1.tar.bz2\n",
        "# decompress\n",
        "!tar -xjf LJSpeech-1.1.tar.bz2"
      ],
      "execution_count": null,
      "outputs": []
    },
    {
      "cell_type": "code",
      "metadata": {
        "id": "-pXyrGDlW1eR"
      },
      "source": [
        "# create train-val splits\n",
        "!shuf LJSpeech-1.1/metadata.csv > LJSpeech-1.1/metadata_shuf.csv\n",
        "!head -n 12000 LJSpeech-1.1/metadata_shuf.csv > LJSpeech-1.1/metadata_train.csv\n",
        "!tail -n 1100 LJSpeech-1.1/metadata_shuf.csv > LJSpeech-1.1/metadata_val.csv"
      ],
      "execution_count": null,
      "outputs": []
    },
    {
      "cell_type": "code",
      "metadata": {
        "id": "5hp6QVxWW5n4"
      },
      "source": [
        "# get TTS to your local\n",
        "!git clone https://github.com/coqui-ai/TTS"
      ],
      "execution_count": null,
      "outputs": []
    },
    {
      "cell_type": "code",
      "metadata": {
        "id": "M3fCd678W60k"
      },
      "source": [
        "# install espeak backend if you like to use phonemes instead of raw characters\n",
        "!sudo apt-get install espeak-ng"
      ],
      "execution_count": null,
      "outputs": []
    },
    {
      "cell_type": "code",
      "metadata": {
        "id": "Oh8hDjxoW6xt"
      },
      "source": [
        "%cd TTS\n",
        "# install TTS requirements\n",
        "!pip install -e ."
      ],
      "execution_count": null,
      "outputs": []
    },
    {
      "cell_type": "code",
      "metadata": {
        "id": "DMnjJIQIXAZ0"
      },
      "source": [
        "# load the default config file and update with the local paths and settings.\n",
        "import json\n",
        "from TTS.utils.io import load_config\n",
        "CONFIG = load_config('/content/TTS/TTS/vocoder/configs/multiband_melgan_config.json')\n",
        "CONFIG['data_path'] = '../LJSpeech-1.1/'  # set the target dataset to the LJSpeech\n",
        "CONFIG['audio']['stats_path'] = None  # do not use mean and variance stats to normalizat spectrograms. Mean and variance stats need to be computed separately. \n",
        "CONFIG['output_path'] = '../'\n",
        "with open('config.json', 'w') as fp:\n",
        "    json.dump(CONFIG, fp)"
      ],
      "execution_count": null,
      "outputs": []
    },
    {
      "cell_type": "code",
      "metadata": {
        "id": "Ur02UPVVXDIL"
      },
      "source": [
        "# pull the trigger\n",
        "!CUDA_VISIBLE_DEVICES='0' python TTS/bin/train_vocoder_gan.py --config_path config.json | tee training.log"
      ],
      "execution_count": null,
      "outputs": []
    },
    {
      "cell_type": "code",
      "metadata": {
        "id": "H2seKhDGbG0C"
      },
      "source": [
        ""
      ],
      "execution_count": null,
      "outputs": []
    }
  ]
}